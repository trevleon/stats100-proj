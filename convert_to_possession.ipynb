{
 "cells": [
  {
   "cell_type": "code",
   "execution_count": 2,
   "metadata": {},
   "outputs": [],
   "source": [
    "import pandas as pd\n",
    "\n",
    "df = pd.read_csv(\"pbp_18-19.csv\")\n",
    "print(df.shape)"
   ]
  },
  {
   "cell_type": "code",
   "execution_count": 44,
   "metadata": {},
   "outputs": [
    {
     "name": "stdout",
     "output_type": "stream",
     "text": [
      "Pre-filtering: 568577\n",
      "Post-filtering: 557943\n"
     ]
    }
   ],
   "source": [
    "# Exclude jump balls, timeouts, and start/end of quarters\n",
    "print(\"Pre-filtering: \" + str(len(df)))\n",
    "bad_possessions = (df[\"AwayEvent\"].str.contains(\"Jump ball\") | df[\"HomeEvent\"].str.contains(\"Jump ball\")\n",
    "                    | df[\"AwayEvent\"].str.contains(\"End of\") | df[\"HomeEvent\"].str.contains(\"End of\")\n",
    "                    | df[\"AwayEvent\"].str.contains(\"Start of\") | df[\"HomeEvent\"].str.contains(\"Start of\"))\n",
    "df = df[~bad_possessions]\n",
    "print(\"Post-filtering: \" + str(len(df)))"
   ]
  },
  {
   "cell_type": "code",
   "execution_count": null,
   "metadata": {},
   "outputs": [],
   "source": [
    "(df[\"AwayEvent\"].str.contains(\"block\") | df[\"HomeEvent\"].str.contains(\"block\")).sum()"
   ]
  },
  {
   "cell_type": "code",
   "execution_count": 8,
   "metadata": {},
   "outputs": [
    {
     "data": {
      "text/plain": [
       "Index(['PlayNum', 'GameID', 'Date', 'Period', 'Possession', 'Time', 'AwayName',\n",
       "       'AwayScore', 'AwayEvent', 'HomeName', 'HomeScore', 'HomeEvent',\n",
       "       'AwayIn', 'AwayOut', 'HomeIn', 'HomeOut', 'ActivePlayers', 'A1', 'A2',\n",
       "       'A3', 'A4', 'A5', 'H1', 'H2', 'H3', 'H4', 'H5'],\n",
       "      dtype='object')"
      ]
     },
     "execution_count": 8,
     "metadata": {},
     "output_type": "execute_result"
    }
   ],
   "source": [
    "df.columns"
   ]
  },
  {
   "cell_type": "code",
   "execution_count": 45,
   "metadata": {},
   "outputs": [
    {
     "name": "stdout",
     "output_type": "stream",
     "text": [
      "Number of home events: 280235\n",
      "Number of away events: 277708\n",
      "Both null: 0\n",
      "Neither null: 0\n"
     ]
    }
   ],
   "source": [
    "# Count the number of times both of HomeEvent and AwayEvent are not null\n",
    "print(\"Number of home events:\", df[\"HomeEvent\"].notnull().sum())\n",
    "print(\"Number of away events:\", df[\"AwayEvent\"].notnull().sum())\n",
    "\n",
    "# These should be 0\n",
    "print(\"Both null:\", df[(df[\"HomeEvent\"].isnull()) & (df[\"AwayEvent\"].isnull())].shape[0])\n",
    "print(\"Neither null:\", df[(df[\"HomeEvent\"].notnull()) & (df[\"AwayEvent\"].notnull())].shape[0])"
   ]
  },
  {
   "cell_type": "code",
   "execution_count": 59,
   "metadata": {},
   "outputs": [],
   "source": [
    "df[\"Event\"] = df[\"HomeEvent\"].fillna(\"\") + df[\"AwayEvent\"].fillna(\"\")\n",
    "df[\"Offensive_rebound\"] = df[\"Event\"].str.contains(\"Offensive rebound\")\n",
    "df[\"Defensive_rebound\"] = df[\"Event\"].str.contains(\"Defensive rebound\")\n",
    "df[\"Steal\"] = df[\"Event\"].str.contains(\"steal\")\n",
    "df[\"Block\"] = df[\"Event\"].str.contains(\"block\")"
   ]
  },
  {
   "cell_type": "code",
   "execution_count": 64,
   "metadata": {},
   "outputs": [
    {
     "name": "stdout",
     "output_type": "stream",
     "text": [
      "Offensive rebounds: 39841\n",
      "Defensive rebounds: 89525\n",
      "Steal: 18432\n",
      "Block: 11989\n"
     ]
    }
   ],
   "source": [
    "print(\"Offensive rebounds:\", df[\"Offensive_rebound\"].sum())\n",
    "print(\"Defensive rebounds:\", df[\"Defensive_rebound\"].sum())\n",
    "print(\"Steal:\", df[\"Steal\"].sum())\n",
    "print(\"Block:\", df[\"Block\"].sum())"
   ]
  },
  {
   "cell_type": "code",
   "execution_count": 20,
   "metadata": {},
   "outputs": [
    {
     "data": {
      "text/plain": [
       "530"
      ]
     },
     "execution_count": 20,
     "metadata": {},
     "output_type": "execute_result"
    }
   ],
   "source": [
    "# Count the number of unique players\n",
    "player_cols = [\"A1\", \"A2\", \"A3\", \"A4\", \"A5\", \"H1\", \"H2\", \"H3\", \"H4\", \"H5\"]\n",
    "players = set().union(*df[player_cols].values)\n",
    "len(players)"
   ]
  },
  {
   "cell_type": "code",
   "execution_count": null,
   "metadata": {},
   "outputs": [],
   "source": []
  }
 ],
 "metadata": {
  "kernelspec": {
   "display_name": "env",
   "language": "python",
   "name": "python3"
  },
  "language_info": {
   "codemirror_mode": {
    "name": "ipython",
    "version": 3
   },
   "file_extension": ".py",
   "mimetype": "text/x-python",
   "name": "python",
   "nbconvert_exporter": "python",
   "pygments_lexer": "ipython3",
   "version": "3.8.12"
  },
  "orig_nbformat": 4
 },
 "nbformat": 4,
 "nbformat_minor": 2
}
