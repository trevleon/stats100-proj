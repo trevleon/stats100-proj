{
 "cells": [
  {
   "cell_type": "code",
   "execution_count": 1,
   "metadata": {},
   "outputs": [
    {
     "name": "stdout",
     "output_type": "stream",
     "text": [
      "(568577, 27)\n"
     ]
    }
   ],
   "source": [
    "import pandas as pd\n",
    "\n",
    "pbp = pd.read_csv(\"pbp_18-19.csv\")\n",
    "print(pbp.shape)"
   ]
  },
  {
   "cell_type": "code",
   "execution_count": 2,
   "metadata": {},
   "outputs": [
    {
     "data": {
      "text/plain": [
       "count    568577.000000\n",
       "mean          0.258482\n",
       "std           0.675543\n",
       "min           0.000000\n",
       "25%           0.000000\n",
       "50%           0.000000\n",
       "75%           0.000000\n",
       "max           3.000000\n",
       "Name: Points, dtype: float64"
      ]
     },
     "execution_count": 2,
     "metadata": {},
     "output_type": "execute_result"
    }
   ],
   "source": [
    "is_home_play = pbp[\"HomeEvent\"].notnull()\n",
    "pbp[\"Event\"] = pbp[\"HomeEvent\"].fillna(\"\") + pbp[\"AwayEvent\"].fillna(\"\")\n",
    "\n",
    "pbp[\"Offensive_rebound\"] = pbp[\"Event\"].str.contains(\"Offensive rebound\")\n",
    "pbp[\"Defensive_rebound\"] = pbp[\"Event\"].str.contains(\"Defensive rebound\")\n",
    "pbp[\"Steal\"] = pbp[\"Event\"].str.contains(\"steal\")\n",
    "pbp[\"Block\"] = pbp[\"Event\"].str.contains(\"block\")\n",
    "\n",
    "# Compute points scored as the difference in score between the next play and this play\n",
    "# for the team who made the play\n",
    "pbp[\"Points\"] = is_home_play * (pbp[\"HomeScore\"].shift(-1) - pbp[\"HomeScore\"]) + \\\n",
    "                (1 - is_home_play) * (pbp[\"AwayScore\"].shift(-1) - pbp[\"AwayScore\"])\n",
    "\n",
    "# Set the points scored by the last play of each game to 0\n",
    "pbp.loc[pbp[\"GameID\"] != pbp[\"GameID\"].shift(-1), \"Points\"] = 0\n",
    "\n",
    "pbp[\"Points\"].describe()"
   ]
  },
  {
   "cell_type": "code",
   "execution_count": 3,
   "metadata": {},
   "outputs": [
    {
     "name": "stdout",
     "output_type": "stream",
     "text": [
      "Pre-filtering: 568577\n",
      "Post-filtering: 557943\n"
     ]
    }
   ],
   "source": [
    "# Exclude jump balls, timeouts, and start/end of quarters\n",
    "print(\"Pre-filtering: \" + str(len(pbp)))\n",
    "bad_plays = (pbp[\"AwayEvent\"].str.contains(\"Jump ball\") | pbp[\"HomeEvent\"].str.contains(\"Jump ball\")\n",
    "                | pbp[\"AwayEvent\"].str.contains(\"End of\") | pbp[\"HomeEvent\"].str.contains(\"End of\")\n",
    "                | pbp[\"AwayEvent\"].str.contains(\"Start of\") | pbp[\"HomeEvent\"].str.contains(\"Start of\"))\n",
    "pbp = pbp[~bad_plays]\n",
    "print(\"Post-filtering: \" + str(len(pbp)))"
   ]
  },
  {
   "cell_type": "code",
   "execution_count": 4,
   "metadata": {},
   "outputs": [
    {
     "name": "stdout",
     "output_type": "stream",
     "text": [
      "Offensive rebound play count: 39841\n",
      "Defensive rebound play count: 89525\n",
      "Steal play count: 18432\n",
      "Block play count: 11989\n"
     ]
    }
   ],
   "source": [
    "print(\"Offensive rebound play count:\", pbp[\"Offensive_rebound\"].sum())\n",
    "print(\"Defensive rebound play count:\", pbp[\"Defensive_rebound\"].sum())\n",
    "print(\"Steal play count:\", pbp[\"Steal\"].sum())\n",
    "print(\"Block play count:\", pbp[\"Block\"].sum())"
   ]
  },
  {
   "cell_type": "code",
   "execution_count": 6,
   "metadata": {},
   "outputs": [],
   "source": [
    "# Compute shot clock time remaining\n",
    "by_possession = pbp[[\"GameID\", \"Possession\", \"Time\", \"Offensive_rebound\"]].copy()\n",
    "by_possession[\"Time\"] = by_possession[\"Time\"].str.split(\":\").apply(lambda x: float(x[0]) * 60 + float(x[1]))\n",
    "by_possession[\"Offensive_rebound_no\"] = by_possession.groupby([\"GameID\", \"Possession\"])[[\"Offensive_rebound\"]].cumsum()\n",
    "by_possession[\"Initial_shot_clock\"] = 24 * (by_possession[\"Offensive_rebound_no\"] == 0) + 14 * (by_possession[\"Offensive_rebound_no\"] > 0)"
   ]
  },
  {
   "cell_type": "code",
   "execution_count": 40,
   "metadata": {},
   "outputs": [
    {
     "name": "stdout",
     "output_type": "stream",
     "text": [
      "0 700.0 700.0\n",
      "1 697.0 697.0\n",
      "2 697.0 678.0\n",
      "3 674.0 674.0\n",
      "4 674.0 662.0\n",
      "5 653.0 653.0\n",
      "6 653.0 653.0\n",
      "7 653.0 653.0\n",
      "8 645.0 645.0\n",
      "9 642.0 642.0\n",
      "10 642.0 637.0\n",
      "11 624.0 624.0\n",
      "12 604.0 604.0\n",
      "13 600.0 600.0\n",
      "14 600.0 591.0\n",
      "15 579.0 579.0\n",
      "16 579.0 576.0\n",
      "17 579.0 575.0\n",
      "18 562.0 562.0\n",
      "19 562.0 562.0\n",
      "20 562.0 556.0\n",
      "21 562.0 554.0\n",
      "22 562.0 554.0\n",
      "23 562.0 550.0\n",
      "24 562.0 536.0\n",
      "25 535.0 535.0\n",
      "26 535.0 524.0\n",
      "27 520.0 520.0\n",
      "28 508.0 508.0\n",
      "29 504.0 504.0\n",
      "30 489.0 489.0\n"
     ]
    }
   ],
   "source": [
    "shot_clock = by_possession[\"Time\"].copy()\n",
    "idx = 0\n",
    "while idx < len(shot_clock):\n",
    "\n",
    "    game_id = by_possession.iloc[idx][\"GameID\"]\n",
    "    possession = by_possession.iloc[idx][\"Possession\"]\n",
    "    begin_time = by_possession.iloc[idx][\"Time\"]\n",
    "    was_reset = False\n",
    "\n",
    "    while idx < len(shot_clock) and \\\n",
    "            by_possession.iloc[idx][\"GameID\"] == game_id and \\\n",
    "            by_possession.iloc[idx][\"Possession\"] == possession:\n",
    "\n",
    "        print(idx, begin_time, by_possession.iloc[idx][\"Time\"])\n",
    "        if by_possession.iloc[idx][\"Offensive_rebound\"] and begin_time - by_possession.iloc[idx][\"Time\"] >= 10:\n",
    "            print(\"reset {}\".format(idx))\n",
    "            begin_time = by_possession.iloc[idx][\"Time\"]\n",
    "            was_reset = True\n",
    "\n",
    "        if was_reset:\n",
    "            shot_clock.iloc[idx] = 14 - (begin_time - by_possession.iloc[idx][\"Time\"])\n",
    "        else:\n",
    "            shot_clock.iloc[idx] = 24 - (begin_time - by_possession.iloc[idx][\"Time\"])\n",
    "        idx += 1"
   ]
  }
 ],
 "metadata": {
  "kernelspec": {
   "display_name": "env",
   "language": "python",
   "name": "python3"
  },
  "language_info": {
   "codemirror_mode": {
    "name": "ipython",
    "version": 3
   },
   "file_extension": ".py",
   "mimetype": "text/x-python",
   "name": "python",
   "nbconvert_exporter": "python",
   "pygments_lexer": "ipython3",
   "version": "3.8.12"
  },
  "orig_nbformat": 4
 },
 "nbformat": 4,
 "nbformat_minor": 2
}
