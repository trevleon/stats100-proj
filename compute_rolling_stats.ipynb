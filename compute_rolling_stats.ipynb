{
 "cells": [
  {
   "cell_type": "code",
   "execution_count": 1,
   "metadata": {},
   "outputs": [],
   "source": [
    "import json\n",
    "\n",
    "with open('player_stats_by_game_18_19_min3.txt') as f:\n",
    "    per_game_stats_str = f.read()\n",
    "\n",
    "per_game_stats = json.loads(per_game_stats_str)"
   ]
  },
  {
   "cell_type": "code",
   "execution_count": 2,
   "metadata": {},
   "outputs": [],
   "source": [
    "import pandas as pd\n",
    "from datetime import datetime\n",
    "\n",
    "rolling_stats = {}\n",
    "na_count = 0\n",
    "\n",
    "for player in per_game_stats:\n",
    "    player_stats = per_game_stats[player]\n",
    "    player_stats.sort(key=lambda x: datetime.strptime(x['date'], '%b %d, %Y'))\n",
    "\n",
    "    # Convert player_stats to a dataframe\n",
    "    player_stats_df = pd.DataFrame(player_stats, index=[x['date'] for x in player_stats], columns=['PTS', 'AST', 'REB', 'MIN'])\n",
    "\n",
    "    # Get the cumulative sum of the stats\n",
    "    for stat in ['PTS', 'AST', 'REB']:\n",
    "        player_stats_df[stat + '_rate'] = ((player_stats_df[stat].cumsum() - player_stats_df[stat]) / \n",
    "                                            (player_stats_df['MIN'].cumsum() - player_stats_df['MIN']))\n",
    "\n",
    "    player_stats_dict = player_stats_df.to_dict(orient='index')\n",
    "    rolling_stats[player] = player_stats_dict\n"
   ]
  },
  {
   "cell_type": "code",
   "execution_count": 3,
   "metadata": {},
   "outputs": [],
   "source": [
    "# Save the rolling stats to a file\n",
    "with open('player_rolling_stats_18_19.txt', 'w') as f:\n",
    "    f.write(json.dumps(rolling_stats))"
   ]
  }
 ],
 "metadata": {
  "kernelspec": {
   "display_name": "env",
   "language": "python",
   "name": "python3"
  },
  "language_info": {
   "codemirror_mode": {
    "name": "ipython",
    "version": 3
   },
   "file_extension": ".py",
   "mimetype": "text/x-python",
   "name": "python",
   "nbconvert_exporter": "python",
   "pygments_lexer": "ipython3",
   "version": "3.8.12"
  },
  "orig_nbformat": 4
 },
 "nbformat": 4,
 "nbformat_minor": 2
}
